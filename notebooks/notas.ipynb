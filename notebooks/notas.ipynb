{
 "cells": [
  {
   "cell_type": "markdown",
   "metadata": {},
   "source": [
    "# Notas"
   ]
  },
  {
   "cell_type": "code",
   "execution_count": 1,
   "metadata": {},
   "outputs": [],
   "source": [
    "import pandas as pd\n",
    "import matplotlib as plt\n",
    "from functools import reduce\n",
    "%matplotlib inline"
   ]
  },
  {
   "cell_type": "markdown",
   "metadata": {},
   "source": [
    "## Carga de Datos"
   ]
  },
  {
   "cell_type": "code",
   "execution_count": 2,
   "metadata": {},
   "outputs": [
    {
     "data": {
      "image/png": "[encoded data removed]",
      "text/plain": [
       "<Figure size 432x288 with 1 Axes>"
      ]
     },
     "metadata": {
      "needs_background": "light"
     },
     "output_type": "display_data"
    }
   ],
   "source": [
    "def read_grades(filename, grade_field, points_field):\n",
    "    df = pd.read_csv(filename)\n",
    "    df.set_index('Email Address', inplace=True, drop=True)\n",
    "    df[grade_field] = df[points_field]/df['Points'] *100.0\n",
    "    df.rename(columns={'Points': 'Points_{}'.format(grade_field)}, inplace=True)\n",
    "    df.drop(columns=['First Name', 'Last Name', 'Feedback'], axis='columns', inplace=True)\n",
    "    return df\n",
    "\n",
    "grade_field = 'Q01'\n",
    "points_field = 'Quiz 1'\n",
    "filename = '../data/ihs_utp_2020_1/Quiz01.csv'\n",
    "\n",
    "df_q = read_grades(filename, grade_field, points_field)\n",
    "df_q['Q01'].hist(bins=10);"
   ]
  },
  {
   "cell_type": "code",
   "execution_count": 3,
   "metadata": {},
   "outputs": [
    {
     "data": {
      "text/html": [
       "<div>\n",
       "<style scoped>\n",
       "    .dataframe tbody tr th:only-of-type {\n",
       "        vertical-align: middle;\n",
       "    }\n",
       "\n",
       "    .dataframe tbody tr th {\n",
       "        vertical-align: top;\n",
       "    }\n",
       "\n",
       "    .dataframe thead th {\n",
       "        text-align: right;\n",
       "    }\n",
       "</style>\n",
       "<table border=\"1\" class=\"dataframe\">\n",
       "  <thead>\n",
       "    <tr style=\"text-align: right;\">\n",
       "      <th></th>\n",
       "      <th>Quiz 1</th>\n",
       "      <th>Points_Q01</th>\n",
       "      <th>Q01</th>\n",
       "    </tr>\n",
       "  </thead>\n",
       "  <tbody>\n",
       "    <tr>\n",
       "      <th>count</th>\n",
       "      <td>14.000000</td>\n",
       "      <td>15.0</td>\n",
       "      <td>14.000000</td>\n",
       "    </tr>\n",
       "    <tr>\n",
       "      <th>mean</th>\n",
       "      <td>8.785714</td>\n",
       "      <td>20.0</td>\n",
       "      <td>43.928571</td>\n",
       "    </tr>\n",
       "    <tr>\n",
       "      <th>std</th>\n",
       "      <td>5.176553</td>\n",
       "      <td>0.0</td>\n",
       "      <td>25.882766</td>\n",
       "    </tr>\n",
       "    <tr>\n",
       "      <th>min</th>\n",
       "      <td>2.000000</td>\n",
       "      <td>20.0</td>\n",
       "      <td>10.000000</td>\n",
       "    </tr>\n",
       "    <tr>\n",
       "      <th>25%</th>\n",
       "      <td>7.000000</td>\n",
       "      <td>20.0</td>\n",
       "      <td>35.000000</td>\n",
       "    </tr>\n",
       "    <tr>\n",
       "      <th>50%</th>\n",
       "      <td>8.000000</td>\n",
       "      <td>20.0</td>\n",
       "      <td>40.000000</td>\n",
       "    </tr>\n",
       "    <tr>\n",
       "      <th>75%</th>\n",
       "      <td>9.000000</td>\n",
       "      <td>20.0</td>\n",
       "      <td>45.000000</td>\n",
       "    </tr>\n",
       "    <tr>\n",
       "      <th>max</th>\n",
       "      <td>20.000000</td>\n",
       "      <td>20.0</td>\n",
       "      <td>100.000000</td>\n",
       "    </tr>\n",
       "  </tbody>\n",
       "</table>\n",
       "</div>"
      ],
      "text/plain": [
       "          Quiz 1  Points_Q01         Q01\n",
       "count  14.000000        15.0   14.000000\n",
       "mean    8.785714        20.0   43.928571\n",
       "std     5.176553         0.0   25.882766\n",
       "min     2.000000        20.0   10.000000\n",
       "25%     7.000000        20.0   35.000000\n",
       "50%     8.000000        20.0   40.000000\n",
       "75%     9.000000        20.0   45.000000\n",
       "max    20.000000        20.0  100.000000"
      ]
     },
     "execution_count": 3,
     "metadata": {},
     "output_type": "execute_result"
    }
   ],
   "source": [
    "df_q.describe()"
   ]
  },
  {
   "cell_type": "code",
   "execution_count": 4,
   "metadata": {},
   "outputs": [
    {
     "data": {
      "image/png": "[encoded data removed]",
      "text/plain": [
       "<Figure size 432x288 with 1 Axes>"
      ]
     },
     "metadata": {
      "needs_background": "light"
     },
     "output_type": "display_data"
    }
   ],
   "source": [
    "grade_field = 'LAB01'\n",
    "points_field = 'Laboratorio 1 Georeferenciación'\n",
    "filename = '../data/ihs_utp_2020_1/Lab01.csv'\n",
    "\n",
    "df_lab =  read_grades(filename, grade_field, points_field)\n",
    "df_lab[grade_field].hist(bins=10);\n",
    "\n"
   ]
  },
  {
   "cell_type": "code",
   "execution_count": 5,
   "metadata": {},
   "outputs": [
    {
     "data": {
      "text/html": [
       "<div>\n",
       "<style scoped>\n",
       "    .dataframe tbody tr th:only-of-type {\n",
       "        vertical-align: middle;\n",
       "    }\n",
       "\n",
       "    .dataframe tbody tr th {\n",
       "        vertical-align: top;\n",
       "    }\n",
       "\n",
       "    .dataframe thead th {\n",
       "        text-align: right;\n",
       "    }\n",
       "</style>\n",
       "<table border=\"1\" class=\"dataframe\">\n",
       "  <thead>\n",
       "    <tr style=\"text-align: right;\">\n",
       "      <th></th>\n",
       "      <th>Laboratorio 1 Georeferenciación</th>\n",
       "      <th>Points_LAB01</th>\n",
       "      <th>LAB01</th>\n",
       "    </tr>\n",
       "  </thead>\n",
       "  <tbody>\n",
       "    <tr>\n",
       "      <th>count</th>\n",
       "      <td>15.000000</td>\n",
       "      <td>15.0</td>\n",
       "      <td>15.000000</td>\n",
       "    </tr>\n",
       "    <tr>\n",
       "      <th>mean</th>\n",
       "      <td>36.466667</td>\n",
       "      <td>55.0</td>\n",
       "      <td>66.303030</td>\n",
       "    </tr>\n",
       "    <tr>\n",
       "      <th>std</th>\n",
       "      <td>10.541528</td>\n",
       "      <td>0.0</td>\n",
       "      <td>19.166414</td>\n",
       "    </tr>\n",
       "    <tr>\n",
       "      <th>min</th>\n",
       "      <td>16.000000</td>\n",
       "      <td>55.0</td>\n",
       "      <td>29.090909</td>\n",
       "    </tr>\n",
       "    <tr>\n",
       "      <th>25%</th>\n",
       "      <td>31.500000</td>\n",
       "      <td>55.0</td>\n",
       "      <td>57.272727</td>\n",
       "    </tr>\n",
       "    <tr>\n",
       "      <th>50%</th>\n",
       "      <td>35.000000</td>\n",
       "      <td>55.0</td>\n",
       "      <td>63.636364</td>\n",
       "    </tr>\n",
       "    <tr>\n",
       "      <th>75%</th>\n",
       "      <td>45.000000</td>\n",
       "      <td>55.0</td>\n",
       "      <td>81.818182</td>\n",
       "    </tr>\n",
       "    <tr>\n",
       "      <th>max</th>\n",
       "      <td>53.000000</td>\n",
       "      <td>55.0</td>\n",
       "      <td>96.363636</td>\n",
       "    </tr>\n",
       "  </tbody>\n",
       "</table>\n",
       "</div>"
      ],
      "text/plain": [
       "       Laboratorio 1 Georeferenciación  Points_LAB01      LAB01\n",
       "count                        15.000000          15.0  15.000000\n",
       "mean                         36.466667          55.0  66.303030\n",
       "std                          10.541528           0.0  19.166414\n",
       "min                          16.000000          55.0  29.090909\n",
       "25%                          31.500000          55.0  57.272727\n",
       "50%                          35.000000          55.0  63.636364\n",
       "75%                          45.000000          55.0  81.818182\n",
       "max                          53.000000          55.0  96.363636"
      ]
     },
     "execution_count": 5,
     "metadata": {},
     "output_type": "execute_result"
    }
   ],
   "source": [
    "df_lab.describe()"
   ]
  },
  {
   "cell_type": "code",
   "execution_count": 6,
   "metadata": {},
   "outputs": [
    {
     "data": {
      "image/png": "[encoded data removed]",
      "text/plain": [
       "<Figure size 432x288 with 1 Axes>"
      ]
     },
     "metadata": {
      "needs_background": "light"
     },
     "output_type": "display_data"
    }
   ],
   "source": [
    "grade_field = 'LAB02'\n",
    "points_field = 'Laboratorio 2 Digitalización'\n",
    "filename = '../data/ihs_utp_2020_1/Lab02.csv'\n",
    "\n",
    "df_lab2 =  read_grades(filename, grade_field, points_field)\n",
    "df_lab2[grade_field].hist(bins=10);\n"
   ]
  },
  {
   "cell_type": "code",
   "execution_count": 7,
   "metadata": {},
   "outputs": [
    {
     "data": {
      "image/png": "[encoded data removed]",
      "text/plain": [
       "<Figure size 432x288 with 1 Axes>"
      ]
     },
     "metadata": {
      "needs_background": "light"
     },
     "output_type": "display_data"
    }
   ],
   "source": [
    "grade_field = 'Q02'\n",
    "points_field = 'Quiz 2'\n",
    "filename = '../data/ihs_utp_2020_1/Quiz02.csv'\n",
    "\n",
    "df_q2 =  read_grades(filename, grade_field, points_field)\n",
    "df_q2[grade_field].hist(bins=10);"
   ]
  },
  {
   "cell_type": "code",
   "execution_count": 11,
   "metadata": {},
   "outputs": [
    {
     "data": {
      "text/plain": [
       "<matplotlib.axes._subplots.AxesSubplot at 0x7fcfbffc9a60>"
      ]
     },
     "execution_count": 11,
     "metadata": {},
     "output_type": "execute_result"
    },
    {
     "data": {
      "image/png": "[encoded data removed]",
      "text/plain": [
       "<Figure size 432x288 with 1 Axes>"
      ]
     },
     "metadata": {
      "needs_background": "light"
     },
     "output_type": "display_data"
    }
   ],
   "source": [
    "grade_field = 'Q03'\n",
    "points_field = 'Quiz Selecciones'\n",
    "filename = '../data/ihs_utp_2020_1/Quiz03.csv'\n",
    "\n",
    "df_q3 =  read_grades(filename, grade_field, points_field)\n",
    "df_q3[grade_field].hist(bins=10)"
   ]
  },
  {
   "cell_type": "code",
   "execution_count": 13,
   "metadata": {},
   "outputs": [
    {
     "data": {
      "image/png": "[encoded data removed]",
      "text/plain": [
       "<Figure size 432x288 with 1 Axes>"
      ]
     },
     "metadata": {
      "needs_background": "light"
     },
     "output_type": "display_data"
    }
   ],
   "source": [
    "#Parcial 2 Introducción Herramientas SIG\n",
    "grade_field = 'Parcial02'\n",
    "points_field = 'Parcial 2 Introducción Herramientas SIG'\n",
    "filename = '../data/ihs_utp_2020_1/Parcial02.csv'\n",
    "\n",
    "df_p2 =  read_grades(filename, grade_field, points_field)\n",
    "df_p2[grade_field].hist(bins=10);"
   ]
  },
  {
   "cell_type": "code",
   "execution_count": 14,
   "metadata": {},
   "outputs": [
    {
     "data": {
      "image/png": "[encoded data removed]",
      "text/plain": [
       "<Figure size 432x288 with 1 Axes>"
      ]
     },
     "metadata": {
      "needs_background": "light"
     },
     "output_type": "display_data"
    }
   ],
   "source": [
    "#Parcial 1\n",
    "grade_field = 'Parcial01'\n",
    "points_field = 'Parcial 1'\n",
    "filename = '../data/ihs_utp_2020_1/Parcial01.csv'\n",
    "\n",
    "df_p1 =  read_grades(filename, grade_field, points_field)\n",
    "df_p1[grade_field].hist(bins=10);"
   ]
  },
  {
   "cell_type": "code",
   "execution_count": 15,
   "metadata": {},
   "outputs": [
    {
     "data": {
      "image/png": "[encoded data removed]",
      "text/plain": [
       "<Figure size 432x288 with 1 Axes>"
      ]
     },
     "metadata": {
      "needs_background": "light"
     },
     "output_type": "display_data"
    }
   ],
   "source": [
    "#Laboratorio 7 Corredores de Impacto\n",
    "grade_field = 'Lab07'\n",
    "points_field = 'Laboratorio 7 Corredores de Impacto'\n",
    "filename = '../data/ihs_utp_2020_1/Lab07.csv'\n",
    "\n",
    "df_lab7 =  read_grades(filename, grade_field, points_field)\n",
    "df_lab7[grade_field].hist(bins=10);"
   ]
  },
  {
   "cell_type": "code",
   "execution_count": 16,
   "metadata": {},
   "outputs": [
    {
     "data": {
      "image/png": "[encoded data removed]",
      "text/plain": [
       "<Figure size 432x288 with 1 Axes>"
      ]
     },
     "metadata": {
      "needs_background": "light"
     },
     "output_type": "display_data"
    }
   ],
   "source": [
    "#Parcial 3 Introducción a las Herramientas SIG\n",
    "grade_field = 'Parcial03'\n",
    "points_field = 'Parcial 3 Introducción a las Herramientas SIG'\n",
    "filename = '../data/ihs_utp_2020_1/Parcial03.csv'\n",
    "\n",
    "df_p3 =  read_grades(filename, grade_field, points_field)\n",
    "df_p3[grade_field].hist(bins=10);"
   ]
  },
  {
   "cell_type": "code",
   "execution_count": 19,
   "metadata": {},
   "outputs": [
    {
     "data": {
      "image/png": "[encoded data removed]",
      "text/plain": [
       "<Figure size 432x288 with 1 Axes>"
      ]
     },
     "metadata": {
      "needs_background": "light"
     },
     "output_type": "display_data"
    }
   ],
   "source": [
    "grade_field = 'ParcialR'\n",
    "points_field = 'Parcial Reemplazo'\n",
    "filename = '../data/ihs_utp_2020_1/ParcialR.csv'\n",
    "\n",
    "df_pr =  read_grades(filename, grade_field, points_field)\n",
    "df_pr[grade_field].hist(bins=10);"
   ]
  },
  {
   "cell_type": "code",
   "execution_count": 22,
   "metadata": {},
   "outputs": [
    {
     "data": {
      "image/png": "[encoded data removed]",
      "text/plain": [
       "<Figure size 432x288 with 1 Axes>"
      ]
     },
     "metadata": {
      "needs_background": "light"
     },
     "output_type": "display_data"
    }
   ],
   "source": [
    "grade_field = 'Semestral'\n",
    "points_field = 'Semestral Introducción a las Herramientas SIG'\n",
    "filename = '../data/ihs_utp_2020_1/Semestral.csv'\n",
    "\n",
    "df_sem =  read_grades(filename, grade_field, points_field)\n",
    "df_sem[grade_field].hist(bins=10);"
   ]
  },
  {
   "cell_type": "code",
   "execution_count": 24,
   "metadata": {},
   "outputs": [],
   "source": [
    "dataframes = [df_q, df_lab, df_lab2, df_q2, df_lab4, df_q3, df_p2, df_p1, df_lab7, df_p3, df_sem]\n",
    "\n",
    "df = reduce(lambda left,right: pd.merge(left,right,on='Email Address'), dataframes)\n",
    "\n",
    "df.to_excel('../data/ihs_utp_2020_1/notas.xlsx')"
   ]
  },
  {
   "cell_type": "code",
   "execution_count": null,
   "metadata": {},
   "outputs": [],
   "source": []
  },
  {
   "cell_type": "code",
   "execution_count": null,
   "metadata": {},
   "outputs": [],
   "source": []
  }
 ],
 "metadata": {
  "kernelspec": {
   "display_name": "Python 3",
   "language": "python",
   "name": "python3"
  },
  "language_info": {
   "codemirror_mode": {
    "name": "ipython",
    "version": 3
   },
   "file_extension": ".py",
   "mimetype": "text/x-python",
   "name": "python",
   "nbconvert_exporter": "python",
   "pygments_lexer": "ipython3",
   "version": "3.8.5"
  }
 },
 "nbformat": 4,
 "nbformat_minor": 4
}
